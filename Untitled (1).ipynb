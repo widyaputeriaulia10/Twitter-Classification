{
 "cells": [
  {
   "cell_type": "code",
   "execution_count": 1,
   "id": "random-extent",
   "metadata": {
    "ExecuteTime": {
     "end_time": "2022-12-23T09:17:56.203829Z",
     "start_time": "2022-12-23T09:17:55.689677Z"
    }
   },
   "outputs": [],
   "source": [
    "import re\n",
    "import fasttext\n",
    "from string import punctuation\n",
    "import unicodedata2 as unicodedata\n",
    "import pandas as pd\n",
    "def lowercase(text):\n",
    "    return text.lower()\n",
    "\n",
    "#casefolding\n",
    "def casefolding(s):\n",
    "    new_str = s.lower()  \n",
    "    return new_str\n",
    "\n",
    "def masking_entity(str):\n",
    "    new_url =  re.sub(r'(?i)\\b((?:https?://|www\\d{0,3}[.]|[a-z0-9.\\-]+[.][a-z]{2,4}     /)(?:[^\\s()<>]+|\\(([^\\s()<>]+|(\\([^\\s()<>]+\\)))*\\))+(?:\\(([^\\s()<>]+|(\\([^\\s()<>]+\\)))*\\)|[^\\s`!()\\[\\]{};:\\'\".,<>?«»“”‘’]))',\"\", str)\n",
    "    return new_url\n",
    "\n",
    "def cleaning(str):\n",
    "    #remove digit from string\n",
    "    str = re.sub(\"\\S*\\d\\S*\", \"\", str).strip()\n",
    "    #removeHashtag\n",
    "    str = re.sub('#[^\\s]+','',str)\n",
    "    #remove mention\n",
    "    str = re.sub(\"@([a-zA-Z0-9_]{1,50})\",\"\",str)\n",
    "    #remove non-ascii\n",
    "    str = unicodedata.normalize('NFKD', str).encode('ascii', 'ignore').decode('utf-8', 'ignore')\n",
    "    #remove_punctuation\n",
    "    str = str.translate(str.maketrans(\"\", \"\", punctuation))\n",
    "    #to lowercase\n",
    "    str = str.lower()\n",
    "    #Remove additional white spaces\n",
    "    str = re.sub('[\\s]+', ' ', str)\n",
    "    \n",
    "    return str\n",
    "\n",
    "#slang word\n",
    "def normalize_slang_word(str):\n",
    "    text_list = str.split(' ')\n",
    "    slang_words_raw = pd.read_csv('/setneg-dir-02/saas-socmed/dev-nlp/dev-divertme/slang_word_list.csv', sep=',', header=None)\n",
    "    slang_word_dict = {}\n",
    "    \n",
    "    for item in slang_words_raw.values:\n",
    "        slang_word_dict[item[0]] = item[1]\n",
    "        \n",
    "        for index in range(len(text_list)):\n",
    "            if text_list[index] in slang_word_dict.keys():\n",
    "                text_list[index] = slang_word_dict[text_list[index]]\n",
    "    \n",
    "    return ' '.join(text_list)\n",
    "\n",
    "def preprocess_text(text):\n",
    "    text = casefolding(text)\n",
    "    text = cleaning (text)\n",
    "    text = masking_entity (text)\n",
    "    text = \"\".join(text)\n",
    "    text = normalize_slang_word(text)\n",
    "    return text\n"
   ]
  },
  {
   "cell_type": "code",
   "execution_count": 2,
   "id": "incredible-confidentiality",
   "metadata": {
    "ExecuteTime": {
     "end_time": "2022-12-23T09:18:19.969177Z",
     "start_time": "2022-12-23T09:17:57.178016Z"
    }
   },
   "outputs": [
    {
     "name": "stderr",
     "output_type": "stream",
     "text": [
      "/home/setneg/anaconda3/lib/python3.6/site-packages/OpenSSL/crypto.py:8: CryptographyDeprecationWarning: Python 3.6 is no longer supported by the Python core team. Therefore, support for it is deprecated in cryptography and will be removed in a future release.\n",
      "  from cryptography import utils, x509\n"
     ]
    }
   ],
   "source": [
    "import json\n",
    "from fastapi import FastAPI, Query, HTTPException, Path\n",
    "from pydantic import BaseModel\n",
    "import uvicorn\n",
    "\n",
    "from transformers import pipeline\n",
    "path_model = '/setneg-dir-02/saas-socmed/dev-nlp/divertme'\n",
    "classifier = pipeline('sentiment-analysis', model = path_model)\n",
    "\n",
    "def predict_class(tweet):\n",
    "    tweet_prep = preprocess_text(tweet)\n",
    "    cek_class = classifier(tweet_prep)\n",
    "\n",
    "    if cek_class[0]['label'] == 'LABEL_0':\n",
    "        return('False')\n",
    "    else:\n",
    "        return('True')"
   ]
  },
  {
   "cell_type": "code",
   "execution_count": 3,
   "id": "falling-newark",
   "metadata": {
    "ExecuteTime": {
     "end_time": "2022-12-23T09:18:46.379707Z",
     "start_time": "2022-12-23T09:18:45.829931Z"
    }
   },
   "outputs": [
    {
     "name": "stdout",
     "output_type": "stream",
     "text": [
      "False\n"
     ]
    }
   ],
   "source": [
    "cek = 'yang nuduh wajib membuktikan paham hukum khan'\n",
    "print(predict_class(cek))"
   ]
  },
  {
   "cell_type": "code",
   "execution_count": null,
   "id": "preliminary-toilet",
   "metadata": {},
   "outputs": [],
   "source": []
  }
 ],
 "metadata": {
  "kernelspec": {
   "display_name": "Python 3 (ipykernel)",
   "language": "python",
   "name": "python3"
  },
  "language_info": {
   "codemirror_mode": {
    "name": "ipython",
    "version": 3
   },
   "file_extension": ".py",
   "mimetype": "text/x-python",
   "name": "python",
   "nbconvert_exporter": "python",
   "pygments_lexer": "ipython3",
   "version": "3.6.3"
  },
  "varInspector": {
   "cols": {
    "lenName": 16,
    "lenType": 16,
    "lenVar": 40
   },
   "kernels_config": {
    "python": {
     "delete_cmd_postfix": "",
     "delete_cmd_prefix": "del ",
     "library": "var_list.py",
     "varRefreshCmd": "print(var_dic_list())"
    },
    "r": {
     "delete_cmd_postfix": ") ",
     "delete_cmd_prefix": "rm(",
     "library": "var_list.r",
     "varRefreshCmd": "cat(var_dic_list()) "
    }
   },
   "types_to_exclude": [
    "module",
    "function",
    "builtin_function_or_method",
    "instance",
    "_Feature"
   ],
   "window_display": false
  }
 },
 "nbformat": 4,
 "nbformat_minor": 5
}
