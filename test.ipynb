{
 "cells": [
  {
   "cell_type": "code",
   "execution_count": 6,
   "id": "animated-bristol",
   "metadata": {
    "ExecuteTime": {
     "end_time": "2023-01-10T09:22:20.515151Z",
     "start_time": "2023-01-10T09:22:20.506194Z"
    }
   },
   "outputs": [
    {
     "ename": "SyntaxError",
     "evalue": "invalid syntax (<ipython-input-6-11c96ab8a9d5>, line 5)",
     "output_type": "error",
     "traceback": [
      "\u001b[0;36m  File \u001b[0;32m\"<ipython-input-6-11c96ab8a9d5>\"\u001b[0;36m, line \u001b[0;32m5\u001b[0m\n\u001b[0;31m    'text' : 'aku sudah lelah dengan hidup ini kalau tau begini lebih baik mati saja'}\u001b[0m\n\u001b[0m           ^\u001b[0m\n\u001b[0;31mSyntaxError\u001b[0m\u001b[0;31m:\u001b[0m invalid syntax\n"
     ]
    }
   ],
   "source": [
    "\n",
    "import requests\n",
    "\n",
    "query = {\n",
    "    \"user_id\" : '001'\n",
    "    'text' : 'aku sudah lelah dengan hidup ini kalau tau begini lebih baik mati saja'}\n",
    "#res_1 = requests.post('/predict_depression', json = query)\n",
    "#data = res_1.json()\n",
    "#print(data)"
   ]
  },
  {
   "cell_type": "code",
   "execution_count": null,
   "id": "expired-musician",
   "metadata": {
    "ExecuteTime": {
     "end_time": "2022-12-22T14:39:25.831608Z",
     "start_time": "2022-12-22T14:39:25.500123Z"
    }
   },
   "outputs": [],
   "source": []
  }
 ],
 "metadata": {
  "kernelspec": {
   "display_name": "Python 3 (ipykernel)",
   "language": "python",
   "name": "python3"
  },
  "language_info": {
   "codemirror_mode": {
    "name": "ipython",
    "version": 3
   },
   "file_extension": ".py",
   "mimetype": "text/x-python",
   "name": "python",
   "nbconvert_exporter": "python",
   "pygments_lexer": "ipython3",
   "version": "3.6.3"
  },
  "varInspector": {
   "cols": {
    "lenName": 16,
    "lenType": 16,
    "lenVar": 40
   },
   "kernels_config": {
    "python": {
     "delete_cmd_postfix": "",
     "delete_cmd_prefix": "del ",
     "library": "var_list.py",
     "varRefreshCmd": "print(var_dic_list())"
    },
    "r": {
     "delete_cmd_postfix": ") ",
     "delete_cmd_prefix": "rm(",
     "library": "var_list.r",
     "varRefreshCmd": "cat(var_dic_list()) "
    }
   },
   "types_to_exclude": [
    "module",
    "function",
    "builtin_function_or_method",
    "instance",
    "_Feature"
   ],
   "window_display": false
  }
 },
 "nbformat": 4,
 "nbformat_minor": 5
}
